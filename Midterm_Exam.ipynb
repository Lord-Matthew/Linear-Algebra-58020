{
  "nbformat": 4,
  "nbformat_minor": 0,
  "metadata": {
    "colab": {
      "name": "Midterm Exam.ipynb",
      "provenance": [],
      "authorship_tag": "ABX9TyODP+Wdyw45x0fnYzPAi7OR",
      "include_colab_link": true
    },
    "kernelspec": {
      "name": "python3",
      "display_name": "Python 3"
    },
    "language_info": {
      "name": "python"
    }
  },
  "cells": [
    {
      "cell_type": "markdown",
      "metadata": {
        "id": "view-in-github",
        "colab_type": "text"
      },
      "source": [
        "<a href=\"https://colab.research.google.com/github/Lord-Matthew/Linear-Algebra-58020/blob/main/Midterm_Exam.ipynb\" target=\"_parent\"><img src=\"https://colab.research.google.com/assets/colab-badge.svg\" alt=\"Open In Colab\"/></a>"
      ]
    },
    {
      "cell_type": "code",
      "metadata": {
        "id": "zW4BrZoS7h5J"
      },
      "source": [
        "import numpy as np"
      ],
      "execution_count": 1,
      "outputs": []
    },
    {
      "cell_type": "markdown",
      "metadata": {
        "id": "i_qjPEtk8WcL"
      },
      "source": [
        "##Question Number 1"
      ]
    },
    {
      "cell_type": "code",
      "metadata": {
        "colab": {
          "base_uri": "https://localhost:8080/"
        },
        "id": "k7vvk6TM7pQD",
        "outputId": "a7be495b-1cd4-4833-cbb6-e1f7c374ff71"
      },
      "source": [
        "A = np.eye(5) #this is the syntax that will display its identity with a length of 5\n",
        "print(A)"
      ],
      "execution_count": 2,
      "outputs": [
        {
          "output_type": "stream",
          "name": "stdout",
          "text": [
            "[[1. 0. 0. 0. 0.]\n",
            " [0. 1. 0. 0. 0.]\n",
            " [0. 0. 1. 0. 0.]\n",
            " [0. 0. 0. 1. 0.]\n",
            " [0. 0. 0. 0. 1.]]\n"
          ]
        }
      ]
    },
    {
      "cell_type": "markdown",
      "metadata": {
        "id": "VTtVbuhb9yGf"
      },
      "source": [
        "##Question Number 2\n"
      ]
    },
    {
      "cell_type": "code",
      "metadata": {
        "colab": {
          "base_uri": "https://localhost:8080/"
        },
        "id": "GL4Rc5UG91_V",
        "outputId": "0b4a6ce5-7aa2-4725-9ca3-282b57124501"
      },
      "source": [
        "B = np.array([[1,1,1,1],[0,1,1,1],[0,0,1,1],[0,0,0,1]]) #in this you will show that the elements below the principal diagonal is zero\n",
        "print(B)"
      ],
      "execution_count": 4,
      "outputs": [
        {
          "output_type": "stream",
          "name": "stdout",
          "text": [
            "[[1 1 1 1]\n",
            " [0 1 1 1]\n",
            " [0 0 1 1]\n",
            " [0 0 0 1]]\n"
          ]
        }
      ]
    },
    {
      "cell_type": "markdown",
      "metadata": {
        "id": "cm85q4gF92Sy"
      },
      "source": [
        "##Question Number 3"
      ]
    },
    {
      "cell_type": "code",
      "metadata": {
        "colab": {
          "base_uri": "https://localhost:8080/"
        },
        "id": "xP4pruvz955S",
        "outputId": "1e8f2756-d5dd-4679-f158-e26ff54d94dc"
      },
      "source": [
        "C = np.array([[1,2,6],[2,8,4],[6,4,5]])\n",
        "print(C)"
      ],
      "execution_count": 9,
      "outputs": [
        {
          "output_type": "stream",
          "name": "stdout",
          "text": [
            "[[1 2 6]\n",
            " [2 8 4]\n",
            " [6 4 5]]\n"
          ]
        }
      ]
    },
    {
      "cell_type": "markdown",
      "metadata": {
        "id": "0GU-JVXD95fx"
      },
      "source": [
        "##Question Number 4"
      ]
    },
    {
      "cell_type": "code",
      "metadata": {
        "colab": {
          "base_uri": "https://localhost:8080/"
        },
        "id": "5VmtpXVa99Ux",
        "outputId": "b5d9ebbf-ae8d-4d74-bf9a-1c6a5313c941"
      },
      "source": [
        "D = np.array([[1,2,3],[2,3,3],[3,4,-2]]) #create an array with the given numbers and convert it into a matrix\n",
        "print(D)\n",
        "E = np.linalg.inv(D) #this syntax shows that the given matrix will be inversed\n",
        "print(E)"
      ],
      "execution_count": 6,
      "outputs": [
        {
          "output_type": "stream",
          "name": "stdout",
          "text": [
            "[[ 1  2  3]\n",
            " [ 2  3  3]\n",
            " [ 3  4 -2]]\n",
            "[[-3.6  3.2 -0.6]\n",
            " [ 2.6 -2.2  0.6]\n",
            " [-0.2  0.4 -0.2]]\n"
          ]
        }
      ]
    },
    {
      "cell_type": "markdown",
      "metadata": {
        "id": "qvnEUyEo99sp"
      },
      "source": [
        "##Question Number 5"
      ]
    },
    {
      "cell_type": "code",
      "metadata": {
        "colab": {
          "base_uri": "https://localhost:8080/"
        },
        "id": "hUVGqSD09_86",
        "outputId": "3cc48f57-33b1-4495-9f34-98c01a3f9a06"
      },
      "source": [
        "D = np.array([[1,2,3],[2,3,3],[3,4,-2]]) #create an array with the given numbers and convert it into a matrix\n",
        "print(D)\n",
        "print(np.linalg.det(D)) #this syntax will compute the determinant of an array\n",
        "print(round(np.linalg.det(D))) #this syntax will round off the determinant into a whole number"
      ],
      "execution_count": 7,
      "outputs": [
        {
          "output_type": "stream",
          "name": "stdout",
          "text": [
            "[[ 1  2  3]\n",
            " [ 2  3  3]\n",
            " [ 3  4 -2]]\n",
            "5.000000000000001\n",
            "5\n"
          ]
        }
      ]
    },
    {
      "cell_type": "markdown",
      "metadata": {
        "id": "XGubXFV0AuFc"
      },
      "source": [
        "##Question Number 6"
      ]
    },
    {
      "cell_type": "code",
      "metadata": {
        "colab": {
          "base_uri": "https://localhost:8080/"
        },
        "id": "8Ys5Ndn7AwRX",
        "outputId": "4eedd962-b460-4b66-bec6-9a2ce08a9fd9"
      },
      "source": [
        "D = np.array([[5,4,1,3.4],[10,9,4,8.8],[10,13,15,19.2]]) #Create an array based on the given\n",
        "print(D)\n",
        "\n",
        "sqrtD = np.sqrt(D) # this line contains the command to find the roots of the given matrix\n",
        "print(\" \")\n",
        "print(\"Roots:\")\n",
        "print(\" \")\n",
        "print(sqrtD)"
      ],
      "execution_count": 8,
      "outputs": [
        {
          "output_type": "stream",
          "name": "stdout",
          "text": [
            "[[ 5.   4.   1.   3.4]\n",
            " [10.   9.   4.   8.8]\n",
            " [10.  13.  15.  19.2]]\n",
            " \n",
            "Roots:\n",
            " \n",
            "[[2.23606798 2.         1.         1.84390889]\n",
            " [3.16227766 3.         2.         2.96647939]\n",
            " [3.16227766 3.60555128 3.87298335 4.38178046]]\n"
          ]
        }
      ]
    }
  ]
}