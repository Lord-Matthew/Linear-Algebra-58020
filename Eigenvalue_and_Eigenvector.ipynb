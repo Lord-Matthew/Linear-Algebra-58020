{
  "nbformat": 4,
  "nbformat_minor": 0,
  "metadata": {
    "colab": {
      "name": "Eigenvalue and Eigenvector.ipynb",
      "provenance": [],
      "authorship_tag": "ABX9TyONgeowvF9WMAS7X79V8AqT",
      "include_colab_link": true
    },
    "kernelspec": {
      "name": "python3",
      "display_name": "Python 3"
    },
    "language_info": {
      "name": "python"
    }
  },
  "cells": [
    {
      "cell_type": "markdown",
      "metadata": {
        "id": "view-in-github",
        "colab_type": "text"
      },
      "source": [
        "<a href=\"https://colab.research.google.com/github/Lord-Matthew/Linear-Algebra-58020/blob/main/Eigenvalue_and_Eigenvector.ipynb\" target=\"_parent\"><img src=\"https://colab.research.google.com/assets/colab-badge.svg\" alt=\"Open In Colab\"/></a>"
      ]
    },
    {
      "cell_type": "code",
      "metadata": {
        "colab": {
          "base_uri": "https://localhost:8080/"
        },
        "id": "7okDBhxOdSEq",
        "outputId": "01641d0d-2413-4768-e917-fb86b711423e"
      },
      "source": [
        "import numpy as np\n",
        "from numpy.linalg import eig\n",
        "\n",
        "A=np.array([[-12,3],[4,1]])\n",
        "print(A)\n",
        "\n",
        "inv_A=np.linalg.inv(A)\n",
        "print(inv_A)\n",
        "\n",
        "B=np.array([[0],[0]])\n",
        "print(B)\n",
        "\n",
        "X=np.dot(inv_A,B)\n",
        "print(X)\n",
        "#X=solve(A,B)\n",
        "#print(X)"
      ],
      "execution_count": 3,
      "outputs": [
        {
          "output_type": "stream",
          "name": "stdout",
          "text": [
            "[[-12   3]\n",
            " [  4   1]]\n",
            "[[-0.04166667  0.125     ]\n",
            " [ 0.16666667  0.5       ]]\n",
            "[[0]\n",
            " [0]]\n",
            "[[0.]\n",
            " [0.]]\n"
          ]
        }
      ]
    },
    {
      "cell_type": "code",
      "metadata": {
        "colab": {
          "base_uri": "https://localhost:8080/"
        },
        "id": "LkzImgf4qAgG",
        "outputId": "3df10b4e-0122-4297-a746-a745f0ccb47d"
      },
      "source": [
        "#Example 1\n",
        "A=np.array([[-6,3],[4,5]])\n",
        "print(A)\n",
        "\n",
        "w,v=np.linalg.eig(A)\n",
        "print(\"The eigenvalue/s is/are\",w)\n",
        "print(\"The right eigenvectors are\",v)\n",
        "x=v.round()\n",
        "print(x)"
      ],
      "execution_count": 4,
      "outputs": [
        {
          "output_type": "stream",
          "name": "stdout",
          "text": [
            "[[-6  3]\n",
            " [ 4  5]]\n",
            "The eigenvalue/s is/are [-7.  6.]\n",
            "The right eigenvectors are [[-0.9486833  -0.24253563]\n",
            " [ 0.31622777 -0.9701425 ]]\n",
            "[[-1. -0.]\n",
            " [ 0. -1.]]\n"
          ]
        }
      ]
    },
    {
      "cell_type": "code",
      "metadata": {
        "colab": {
          "base_uri": "https://localhost:8080/"
        },
        "id": "5EE2rM-5t6Ov",
        "outputId": "c4a4c4d3-54b6-4744-8e68-6c1556094aa6"
      },
      "source": [
        "#Example 2\n",
        "A=np.array([[2,2,4],[1,3,5],[2,3,4]])\n",
        "print(A)\n",
        "s,t=np.linalg.eig(A)\n",
        "print(s.round())\n",
        "print(t.round())\n",
        "c=np.dot(A,t.round())\n",
        "print(c)\n"
      ],
      "execution_count": 5,
      "outputs": [
        {
          "output_type": "stream",
          "name": "stdout",
          "text": [
            "[[2 2 4]\n",
            " [1 3 5]\n",
            " [2 3 4]]\n",
            "[ 9.  1. -1.]\n",
            "[[-1. -1. -0.]\n",
            " [-1.  1. -1.]\n",
            " [-1. -0.  1.]]\n",
            "[[-8.  0.  2.]\n",
            " [-9.  2.  2.]\n",
            " [-9.  1.  1.]]\n"
          ]
        }
      ]
    },
    {
      "cell_type": "code",
      "metadata": {
        "colab": {
          "base_uri": "https://localhost:8080/"
        },
        "id": "8tdFaXx4wuZ5",
        "outputId": "313bea5a-e5f5-479f-849f-677ffe3445d8"
      },
      "source": [
        "f=np.array([[-1],[-1],[-1]])\n",
        "print(f)\n",
        "g=np.dot(A,f)\n",
        "print(g)\n"
      ],
      "execution_count": 6,
      "outputs": [
        {
          "output_type": "stream",
          "name": "stdout",
          "text": [
            "[[-1]\n",
            " [-1]\n",
            " [-1]]\n",
            "[[-8]\n",
            " [-9]\n",
            " [-9]]\n"
          ]
        }
      ]
    }
  ]
}