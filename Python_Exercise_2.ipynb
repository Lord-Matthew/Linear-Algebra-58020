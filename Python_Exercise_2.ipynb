{
  "nbformat": 4,
  "nbformat_minor": 0,
  "metadata": {
    "colab": {
      "name": "Python_Exercise_2.ipynb",
      "provenance": [],
      "authorship_tag": "ABX9TyM2dQ9WzLCAUmv1C5RegSos",
      "include_colab_link": true
    },
    "kernelspec": {
      "name": "python3",
      "display_name": "Python 3"
    },
    "language_info": {
      "name": "python"
    }
  },
  "cells": [
    {
      "cell_type": "markdown",
      "metadata": {
        "id": "view-in-github",
        "colab_type": "text"
      },
      "source": [
        "<a href=\"https://colab.research.google.com/github/Lord-Matthew/Linear-Algebra-58020/blob/main/Python_Exercise_2.ipynb\" target=\"_parent\"><img src=\"https://colab.research.google.com/assets/colab-badge.svg\" alt=\"Open In Colab\"/></a>"
      ]
    },
    {
      "cell_type": "markdown",
      "metadata": {
        "id": "nOiECgxcAnNw"
      },
      "source": [
        "##Vector "
      ]
    },
    {
      "cell_type": "code",
      "metadata": {
        "id": "WZLs55rgctb9",
        "colab": {
          "base_uri": "https://localhost:8080/"
        },
        "outputId": "12bef6ab-0e74-48e1-acbc-b4c815465f72"
      },
      "source": [
        "import numpy as np\n",
        "A = np.array([4,3])\n",
        "B = np.array([2,-5])\n",
        "\n",
        "print(\"Vector A is \", A)\n",
        "print(\"Vector B is \", B)"
      ],
      "execution_count": 2,
      "outputs": [
        {
          "output_type": "stream",
          "name": "stdout",
          "text": [
            "Vector A is  [4 3]\n",
            "Vector B is  [ 2 -5]\n"
          ]
        }
      ]
    },
    {
      "cell_type": "code",
      "metadata": {
        "id": "FhMtloTAcuKt",
        "colab": {
          "base_uri": "https://localhost:8080/"
        },
        "outputId": "578bf1a9-609b-449d-aa6c-a2d22b73e9d9"
      },
      "source": [
        "ball1 = np.array([1,4,6])\n",
        "ball2 = np.array([0,1,-1])\n",
        "\n",
        "pool = np.array([ball1,ball2])\n",
        "print(pool.shape)\n",
        "print(pool.size)"
      ],
      "execution_count": 5,
      "outputs": [
        {
          "output_type": "stream",
          "name": "stdout",
          "text": [
            "(2, 3)\n",
            "6\n"
          ]
        }
      ]
    },
    {
      "cell_type": "markdown",
      "metadata": {
        "id": "zvwzt6AfAwCg"
      },
      "source": [
        "##Vector Addition"
      ]
    },
    {
      "cell_type": "code",
      "metadata": {
        "colab": {
          "base_uri": "https://localhost:8080/"
        },
        "id": "_5tSIfci8PXU",
        "outputId": "4eb90186-4e15-4759-ad6f-23e620a16c54"
      },
      "source": [
        "R = A+B\n",
        "print(R)"
      ],
      "execution_count": 7,
      "outputs": [
        {
          "output_type": "stream",
          "name": "stdout",
          "text": [
            "[ 6 -2]\n"
          ]
        }
      ]
    },
    {
      "cell_type": "code",
      "metadata": {
        "colab": {
          "base_uri": "https://localhost:8080/"
        },
        "id": "b8o-G10q-1KQ",
        "outputId": "77aab35d-a0a7-4838-8df8-6ad1b2ea422e"
      },
      "source": [
        "R = np.add(A,B)\n",
        "R"
      ],
      "execution_count": 10,
      "outputs": [
        {
          "output_type": "execute_result",
          "data": {
            "text/plain": [
              "array([ 6, -2])"
            ]
          },
          "metadata": {},
          "execution_count": 10
        }
      ]
    },
    {
      "cell_type": "markdown",
      "metadata": {
        "id": "ZRnUts4qAs5Z"
      },
      "source": [
        "##Vector Subtraction"
      ]
    },
    {
      "cell_type": "code",
      "metadata": {
        "colab": {
          "base_uri": "https://localhost:8080/"
        },
        "id": "WiYigS2V_MZD",
        "outputId": "c13d76e1-ca7e-4254-e0b7-1f0feedc1e15"
      },
      "source": [
        "R = np.subtract(A,B)\n",
        "R"
      ],
      "execution_count": 12,
      "outputs": [
        {
          "output_type": "execute_result",
          "data": {
            "text/plain": [
              "array([2, 8])"
            ]
          },
          "metadata": {},
          "execution_count": 12
        }
      ]
    },
    {
      "cell_type": "markdown",
      "metadata": {
        "id": "1PNKymx4A8Xx"
      },
      "source": [
        "##Vector Scaling"
      ]
    },
    {
      "cell_type": "code",
      "metadata": {
        "colab": {
          "base_uri": "https://localhost:8080/"
        },
        "id": "GFhVYRdR_Wa2",
        "outputId": "21dd869f-7baa-4435-9fdb-812381729d67"
      },
      "source": [
        "A = np.array([1,5,8,9])\n",
        "S = 5*A\n",
        "print(S)"
      ],
      "execution_count": 13,
      "outputs": [
        {
          "output_type": "stream",
          "name": "stdout",
          "text": [
            "[ 5 25 40 45]\n"
          ]
        }
      ]
    },
    {
      "cell_type": "code",
      "metadata": {
        "colab": {
          "base_uri": "https://localhost:8080/"
        },
        "id": "spNGoq7LBYnO",
        "outputId": "21f950c2-87bd-4bca-ec15-82d68061a880"
      },
      "source": [
        "s = np.multiply(5,A)\n",
        "print(S)"
      ],
      "execution_count": 15,
      "outputs": [
        {
          "output_type": "stream",
          "name": "stdout",
          "text": [
            "[ 5 25 40 45]\n"
          ]
        }
      ]
    },
    {
      "cell_type": "markdown",
      "metadata": {
        "id": "bvIWXL6mB3qh"
      },
      "source": [
        "##Vector Cross Product"
      ]
    },
    {
      "cell_type": "code",
      "metadata": {
        "colab": {
          "base_uri": "https://localhost:8080/"
        },
        "id": "nBqaNTVXBewo",
        "outputId": "30c7c167-e166-4f22-f72d-dce8bde2a1e3"
      },
      "source": [
        "C = np.array([2,7])\n",
        "D = np.array([1,7])\n",
        "\n",
        "output = np.cross(C,D)\n",
        "print(output)"
      ],
      "execution_count": 21,
      "outputs": [
        {
          "output_type": "stream",
          "name": "stdout",
          "text": [
            "7\n"
          ]
        }
      ]
    },
    {
      "cell_type": "code",
      "metadata": {
        "colab": {
          "base_uri": "https://localhost:8080/"
        },
        "id": "dOr56ecgCIra",
        "outputId": "145e6ccc-2ffd-4588-afb6-62e3e81e43d1"
      },
      "source": [
        "output = np.dot(C,D)\n",
        "print(output)"
      ],
      "execution_count": 22,
      "outputs": [
        {
          "output_type": "stream",
          "name": "stdout",
          "text": [
            "51\n"
          ]
        }
      ]
    },
    {
      "cell_type": "code",
      "metadata": {
        "id": "nqu4ynqkEHMN"
      },
      "source": [
        ""
      ],
      "execution_count": null,
      "outputs": []
    }
  ]
}