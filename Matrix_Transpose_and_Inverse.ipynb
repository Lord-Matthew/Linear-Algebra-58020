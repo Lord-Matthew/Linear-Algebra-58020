{
  "nbformat": 4,
  "nbformat_minor": 0,
  "metadata": {
    "colab": {
      "name": "Matrix Transpose and Inverse.ipynb",
      "provenance": [],
      "authorship_tag": "ABX9TyPKtszY6M5P0POFqFTgVec1",
      "include_colab_link": true
    },
    "kernelspec": {
      "name": "python3",
      "display_name": "Python 3"
    },
    "language_info": {
      "name": "python"
    }
  },
  "cells": [
    {
      "cell_type": "markdown",
      "metadata": {
        "id": "view-in-github",
        "colab_type": "text"
      },
      "source": [
        "<a href=\"https://colab.research.google.com/github/Lord-Matthew/Linear-Algebra-58020/blob/main/Matrix_Transpose_and_Inverse.ipynb\" target=\"_parent\"><img src=\"https://colab.research.google.com/assets/colab-badge.svg\" alt=\"Open In Colab\"/></a>"
      ]
    },
    {
      "cell_type": "code",
      "metadata": {
        "colab": {
          "base_uri": "https://localhost:8080/"
        },
        "id": "BwJ6NdubS7ai",
        "outputId": "7d8b9f4a-461b-4d70-ea27-ea9d5d5acf30"
      },
      "source": [
        "##Create 3x3 or 4x4 matrix and apply Transpose\n",
        "import numpy as np\n",
        "A=np.array([[6,8,7],[5,4,6],[3,1,1]])\n",
        "print(A)\n",
        "B=np.transpose(A)\n",
        "print(B)"
      ],
      "execution_count": 8,
      "outputs": [
        {
          "output_type": "stream",
          "name": "stdout",
          "text": [
            "[[6 8 7]\n",
            " [5 4 6]\n",
            " [3 1 1]]\n",
            "[[6 5 3]\n",
            " [8 4 1]\n",
            " [7 6 1]]\n"
          ]
        }
      ]
    },
    {
      "cell_type": "code",
      "metadata": {
        "colab": {
          "base_uri": "https://localhost:8080/"
        },
        "id": "BT5MrxWTTvmb",
        "outputId": "ef6b0cb0-2f50-4833-cfdd-520060a55839"
      },
      "source": [
        "##Create 3x3 or 4x4 matrix and apply Inverse\n",
        "C=np.linalg.inv(A)\n",
        "print(C)\n",
        "D=np.dot(A,C)\n",
        "print(D)"
      ],
      "execution_count": 12,
      "outputs": [
        {
          "output_type": "stream",
          "name": "stdout",
          "text": [
            "[[-0.04651163 -0.02325581  0.46511628]\n",
            " [ 0.30232558 -0.34883721 -0.02325581]\n",
            " [-0.1627907   0.41860465 -0.37209302]]\n",
            "[[ 1.00000000e+00 -2.22044605e-16  1.66533454e-16]\n",
            " [-2.22044605e-16  1.00000000e+00  3.33066907e-16]\n",
            " [-5.55111512e-17 -2.77555756e-16  1.00000000e+00]]\n"
          ]
        }
      ]
    }
  ]
}