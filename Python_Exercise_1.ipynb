{
  "nbformat": 4,
  "nbformat_minor": 0,
  "metadata": {
    "colab": {
      "name": "Python Exercise 1.ipynb",
      "provenance": [],
      "authorship_tag": "ABX9TyPfeDbjr1IvYD8potZy+YY/",
      "include_colab_link": true
    },
    "kernelspec": {
      "name": "python3",
      "display_name": "Python 3"
    },
    "language_info": {
      "name": "python"
    }
  },
  "cells": [
    {
      "cell_type": "markdown",
      "metadata": {
        "id": "view-in-github",
        "colab_type": "text"
      },
      "source": [
        "<a href=\"https://colab.research.google.com/github/Lord-Matthew/Linear-Algebra-58020/blob/main/Python_Exercise_1.ipynb\" target=\"_parent\"><img src=\"https://colab.research.google.com/assets/colab-badge.svg\" alt=\"Open In Colab\"/></a>"
      ]
    },
    {
      "cell_type": "markdown",
      "metadata": {
        "id": "smVDQLuQK5e1"
      },
      "source": [
        "#Matrix and Its Operations"
      ]
    },
    {
      "cell_type": "code",
      "metadata": {
        "id": "y81DmTOtL-Qj"
      },
      "source": [
        "import numpy as np"
      ],
      "execution_count": null,
      "outputs": []
    },
    {
      "cell_type": "code",
      "metadata": {
        "colab": {
          "base_uri": "https://localhost:8080/"
        },
        "id": "buxeBfq2KvmK",
        "outputId": "b086655d-fcbb-4f32-f0fe-c84f4773354d"
      },
      "source": [
        "#Addition of Matrices\n",
        "A = np.array([[-5,0],[4,1]])\n",
        "B = np.array([[6,-3],[2,3]])\n",
        "print(A+B)"
      ],
      "execution_count": null,
      "outputs": [
        {
          "output_type": "stream",
          "name": "stdout",
          "text": [
            "[[ 1 -3]\n",
            " [ 6  4]]\n"
          ]
        }
      ]
    },
    {
      "cell_type": "code",
      "metadata": {
        "colab": {
          "base_uri": "https://localhost:8080/"
        },
        "id": "-J_3eUojLTBW",
        "outputId": "b39e61b2-4c43-460a-f7f8-56d9b9167894"
      },
      "source": [
        "#Difference of Matrices (A-B)\n",
        "A = np.array([[-5,0],[4,1]])\n",
        "B = np.array([[6,-3],[2,3]])\n",
        "print(A-B)"
      ],
      "execution_count": null,
      "outputs": [
        {
          "output_type": "stream",
          "name": "stdout",
          "text": [
            "[[-11   3]\n",
            " [  2  -2]]\n"
          ]
        }
      ]
    },
    {
      "cell_type": "code",
      "metadata": {
        "colab": {
          "base_uri": "https://localhost:8080/"
        },
        "id": "wbVuOcxjMhJ-",
        "outputId": "6dd8c4f3-79c1-4f4c-c340-881cd871f4ff"
      },
      "source": [
        "#Difference of Matrices (B-B)\n",
        "a = np.array([[-5,0],[4,1]])\n",
        "b = np.array([[6,-3],[2,3]])\n",
        "print(B-B)"
      ],
      "execution_count": null,
      "outputs": [
        {
          "output_type": "stream",
          "name": "stdout",
          "text": [
            "[[0 0]\n",
            " [0 0]]\n"
          ]
        }
      ]
    },
    {
      "cell_type": "code",
      "metadata": {
        "id": "padEACL2Mttp"
      },
      "source": [
        ""
      ],
      "execution_count": null,
      "outputs": []
    }
  ]
}