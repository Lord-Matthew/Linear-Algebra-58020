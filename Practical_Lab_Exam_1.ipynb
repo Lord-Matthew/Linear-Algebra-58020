{
  "nbformat": 4,
  "nbformat_minor": 0,
  "metadata": {
    "colab": {
      "name": "Practical Lab Exam 1.ipynb",
      "provenance": [],
      "authorship_tag": "ABX9TyNcnxTU9j7aEpj11PkaQiuW",
      "include_colab_link": true
    },
    "kernelspec": {
      "name": "python3",
      "display_name": "Python 3"
    },
    "language_info": {
      "name": "python"
    }
  },
  "cells": [
    {
      "cell_type": "markdown",
      "metadata": {
        "id": "view-in-github",
        "colab_type": "text"
      },
      "source": [
        "<a href=\"https://colab.research.google.com/github/Lord-Matthew/Linear-Algebra-58020/blob/main/Practical_Lab_Exam_1.ipynb\" target=\"_parent\"><img src=\"https://colab.research.google.com/assets/colab-badge.svg\" alt=\"Open In Colab\"/></a>"
      ]
    },
    {
      "cell_type": "markdown",
      "metadata": {
        "id": "tM_H2jAWHj8C"
      },
      "source": [
        "#PRACTICAL LAB EXAM 1"
      ]
    },
    {
      "cell_type": "code",
      "metadata": {
        "id": "EkkSCvLhz6vy"
      },
      "source": [
        "import numpy as np"
      ],
      "execution_count": 25,
      "outputs": []
    },
    {
      "cell_type": "markdown",
      "metadata": {
        "id": "z69yEsCoDHMp"
      },
      "source": [
        "# PROBLEM 1"
      ]
    },
    {
      "cell_type": "code",
      "metadata": {
        "id": "8huKG-8r_7bf"
      },
      "source": [
        "w = np.array([[1,-3,0],[2,-2,0],[3,1,0]])\n",
        "x = np.array([[3,2,1],[-1,2,32],[2,1,-1]])\n",
        "y = np.array([[1,2,0],[0,-1,2],[0,0,0]])\n",
        "z = np.array([[0,1],[2,3]])"
      ],
      "execution_count": 24,
      "outputs": []
    },
    {
      "cell_type": "markdown",
      "metadata": {
        "id": "P9ktN9kiC-zY"
      },
      "source": [
        "# LETTER A"
      ]
    },
    {
      "cell_type": "code",
      "metadata": {
        "colab": {
          "base_uri": "https://localhost:8080/"
        },
        "id": "ccnvt5h1Apwm",
        "outputId": "b272a2a5-e498-4cb8-8c5a-65ae679647c7"
      },
      "source": [
        "output=np.dot(w,y)\n",
        "print(output)"
      ],
      "execution_count": 26,
      "outputs": [
        {
          "output_type": "stream",
          "name": "stdout",
          "text": [
            "[[ 1  5 -6]\n",
            " [ 2  6 -4]\n",
            " [ 3  5  2]]\n"
          ]
        }
      ]
    },
    {
      "cell_type": "markdown",
      "metadata": {
        "id": "8WkGwTvnDCm5"
      },
      "source": [
        "# LETTER B"
      ]
    },
    {
      "cell_type": "code",
      "metadata": {
        "colab": {
          "base_uri": "https://localhost:8080/"
        },
        "id": "OBhyyVT5Azrc",
        "outputId": "e26f39aa-20e9-4e5a-d24b-142efedb7782"
      },
      "source": [
        "output=np.add(z,z)\n",
        "print(output)"
      ],
      "execution_count": 27,
      "outputs": [
        {
          "output_type": "stream",
          "name": "stdout",
          "text": [
            "[[0 2]\n",
            " [4 6]]\n"
          ]
        }
      ]
    },
    {
      "cell_type": "markdown",
      "metadata": {
        "id": "LRiEj7bcDEVW"
      },
      "source": [
        "# LETTER C"
      ]
    },
    {
      "cell_type": "code",
      "metadata": {
        "colab": {
          "base_uri": "https://localhost:8080/"
        },
        "id": "WSGEX0QlA9E9",
        "outputId": "09de1cd6-830b-474c-b19d-81cb932a0716"
      },
      "source": [
        "output=np.dot(3,x)\n",
        "print(output)"
      ],
      "execution_count": 28,
      "outputs": [
        {
          "output_type": "stream",
          "name": "stdout",
          "text": [
            "[[ 9  6  3]\n",
            " [-3  6 96]\n",
            " [ 6  3 -3]]\n"
          ]
        }
      ]
    },
    {
      "cell_type": "markdown",
      "metadata": {
        "id": "g_QfI2hjDl2W"
      },
      "source": [
        "# PROBLEM 2"
      ]
    },
    {
      "cell_type": "markdown",
      "metadata": {
        "id": "6Xyqffv2ENF4"
      },
      "source": [
        "#The product (YW)2 is not defined"
      ]
    },
    {
      "cell_type": "code",
      "metadata": {
        "colab": {
          "base_uri": "https://localhost:8080/"
        },
        "id": "Kr7WzjKxBABy",
        "outputId": "5d8859a6-28c2-4215-e53b-0c627ebd8065"
      },
      "source": [
        "prob=np.cross(y,w)\n",
        "ans=2*prob\n",
        "print(ans)"
      ],
      "execution_count": 29,
      "outputs": [
        {
          "output_type": "stream",
          "name": "stdout",
          "text": [
            "[[  0   0 -10]\n",
            " [  8   8   4]\n",
            " [  0   0   0]]\n"
          ]
        }
      ]
    },
    {
      "cell_type": "markdown",
      "metadata": {
        "id": "twiIU068ETP8"
      },
      "source": [
        "#WY – X"
      ]
    },
    {
      "cell_type": "code",
      "metadata": {
        "colab": {
          "base_uri": "https://localhost:8080/"
        },
        "id": "4aeLXeGTELS1",
        "outputId": "e3d5fd7b-b0a9-4b9b-f928-a7fa6672e5a7"
      },
      "source": [
        "bpb=np.dot(w,y)\n",
        "bp2=np.subtract(bpb,w)\n",
        "print(bp2)"
      ],
      "execution_count": 34,
      "outputs": [
        {
          "output_type": "stream",
          "name": "stdout",
          "text": [
            "[[ 0  8 -6]\n",
            " [ 0  8 -4]\n",
            " [ 0  4  2]]\n"
          ]
        }
      ]
    },
    {
      "cell_type": "markdown",
      "metadata": {
        "id": "CTV8G-QzEW-J"
      },
      "source": [
        "#YW – Z^2"
      ]
    },
    {
      "cell_type": "code",
      "metadata": {
        "colab": {
          "base_uri": "https://localhost:8080/"
        },
        "id": "LP_0_CjBEWh5",
        "outputId": "6d2d2e24-0ea6-4cb5-aec1-8463f566f93a"
      },
      "source": [
        "cpb=np.dot(y,w)\n",
        "cpb2=2*z\n",
        "\n",
        "cpb=([[5,-7],[4,4]])\n",
        "\n",
        "cpb3=np.subtract(cpb,cpb2)\n",
        "print(cpb3)"
      ],
      "execution_count": 42,
      "outputs": [
        {
          "output_type": "stream",
          "name": "stdout",
          "text": [
            "[[ 5 -9]\n",
            " [ 0 -2]]\n"
          ]
        }
      ]
    },
    {
      "cell_type": "code",
      "metadata": {
        "id": "nIgSEf2kFhN8"
      },
      "source": [
        ""
      ],
      "execution_count": null,
      "outputs": []
    }
  ]
}