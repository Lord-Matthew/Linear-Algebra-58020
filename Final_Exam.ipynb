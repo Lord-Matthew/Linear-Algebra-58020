{
  "nbformat": 4,
  "nbformat_minor": 0,
  "metadata": {
    "colab": {
      "name": "Final Exam",
      "provenance": [],
      "authorship_tag": "ABX9TyPMetkZT6iCO+6gTN972gXa",
      "include_colab_link": true
    },
    "kernelspec": {
      "name": "python3",
      "display_name": "Python 3"
    },
    "language_info": {
      "name": "python"
    }
  },
  "cells": [
    {
      "cell_type": "markdown",
      "metadata": {
        "id": "view-in-github",
        "colab_type": "text"
      },
      "source": [
        "<a href=\"https://colab.research.google.com/github/Lord-Matthew/Linear-Algebra-58020/blob/main/Final_Exam.ipynb\" target=\"_parent\"><img src=\"https://colab.research.google.com/assets/colab-badge.svg\" alt=\"Open In Colab\"/></a>"
      ]
    },
    {
      "cell_type": "markdown",
      "source": [
        "##Final Exam"
      ],
      "metadata": {
        "id": "IuY4NLLnG9qg"
      }
    },
    {
      "cell_type": "code",
      "source": [
        "import numpy as np\n",
        "from numpy.linalg import eig"
      ],
      "metadata": {
        "id": "rsgVdfa5K0B3"
      },
      "execution_count": 1,
      "outputs": []
    },
    {
      "cell_type": "markdown",
      "source": [
        "##Problem 1 \n",
        "\n",
        "##Student A, Student B, and Student C have a total of Php 89 cash in their banks. Student A has 6 less than Student C. Student B has 3 times what Student C has. How much does each student have? "
      ],
      "metadata": {
        "id": "t-tpyF9gHCY1"
      }
    },
    {
      "cell_type": "code",
      "execution_count": 12,
      "metadata": {
        "colab": {
          "base_uri": "https://localhost:8080/"
        },
        "id": "RYxRRplDG8nF",
        "outputId": "0d5d22df-18ca-4a85-8437-3841810b6734"
      },
      "outputs": [
        {
          "output_type": "stream",
          "name": "stdout",
          "text": [
            "[[13.]\n",
            " [57.]\n",
            " [19.]]\n"
          ]
        }
      ],
      "source": [
        "Stu1 = np.array([[1,1,1],[1,0,4],[0,0,5]])\n",
        "Stu2 = np.array([[89],[89],[95]])\n",
        "\n",
        "T = np.linalg.inv(Stu1).dot(Stu2)\n",
        "print(T)"
      ]
    },
    {
      "cell_type": "markdown",
      "source": [
        "##Problem 2\n",
        "\n",
        "##Solve each system: (30 points)\n",
        "\n",
        "3x - y + z = 5\n",
        "\n",
        "9x - 3y +3z = 15\n",
        "\n",
        "-12x +4y -4z = -20 "
      ],
      "metadata": {
        "id": "nhb3Oy0aH4R0"
      }
    },
    {
      "cell_type": "markdown",
      "source": [
        "##Answer\n",
        "The matrix is singular, we cannot somehow inverse it but we can use pinv to see the output and the results."
      ],
      "metadata": {
        "id": "pp5I9mb5ZSnq"
      }
    },
    {
      "cell_type": "markdown",
      "source": [
        "##Problem 3 Consider the matrix, (40 points)\n",
        "\n",
        "1. Find the eigenvalue/s\n",
        "2. Find the eigenvectors\n"
      ],
      "metadata": {
        "id": "Q_NKM1KAIB2y"
      }
    },
    {
      "cell_type": "code",
      "source": [
        "z=np.array ([[8,5,-6],[-12,-9,-12],[-3,-3,5]]) #Create an array from the given\n",
        "print(z)\n",
        "\n",
        "b,c= np.linalg.eig(z)   #This syntax shows how to find the eigenvalues and vectors\n",
        "print (\"The eigenvalue/s is/are:\",b)"
      ],
      "metadata": {
        "colab": {
          "base_uri": "https://localhost:8080/"
        },
        "id": "fVH4ELUaIKqb",
        "outputId": "75822a5f-0fe5-4a5b-e1c0-58e62212bf7c"
      },
      "execution_count": 8,
      "outputs": [
        {
          "output_type": "stream",
          "name": "stdout",
          "text": [
            "[[  8   5  -6]\n",
            " [-12  -9 -12]\n",
            " [ -3  -3   5]]\n",
            "The eigenvalue/s is/are: [-8.11684397  3.          9.11684397]\n"
          ]
        }
      ]
    },
    {
      "cell_type": "code",
      "source": [
        "print (\"The eigenvectors are:\",c)"
      ],
      "metadata": {
        "colab": {
          "base_uri": "https://localhost:8080/"
        },
        "id": "LZUiCumrM9DK",
        "outputId": "163ca801-8cf2-4e36-aee5-c8276dc97c61"
      },
      "execution_count": 9,
      "outputs": [
        {
          "output_type": "stream",
          "name": "stdout",
          "text": [
            "The eigenvectors are: [[ 2.35632155e-01 -7.07106781e-01 -8.61671223e-01]\n",
            " [-9.57707415e-01  7.07106781e-01  2.99299241e-01]\n",
            " [-1.65148399e-01 -1.19155502e-16  4.09808086e-01]]\n"
          ]
        }
      ]
    }
  ]
}