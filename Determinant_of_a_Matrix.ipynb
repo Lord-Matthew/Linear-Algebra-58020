{
  "nbformat": 4,
  "nbformat_minor": 0,
  "metadata": {
    "colab": {
      "name": "Determinant_of_a_Matrix.ipynb",
      "provenance": [],
      "authorship_tag": "ABX9TyPtnqXv94FAYheMGhAkI8e/",
      "include_colab_link": true
    },
    "kernelspec": {
      "name": "python3",
      "display_name": "Python 3"
    },
    "language_info": {
      "name": "python"
    }
  },
  "cells": [
    {
      "cell_type": "markdown",
      "metadata": {
        "id": "view-in-github",
        "colab_type": "text"
      },
      "source": [
        "<a href=\"https://colab.research.google.com/github/Lord-Matthew/Linear-Algebra-58020/blob/main/Determinant_of_a_Matrix.ipynb\" target=\"_parent\"><img src=\"https://colab.research.google.com/assets/colab-badge.svg\" alt=\"Open In Colab\"/></a>"
      ]
    },
    {
      "cell_type": "code",
      "metadata": {
        "id": "2LjJZrsRaJh9"
      },
      "source": [
        "import numpy as np"
      ],
      "execution_count": null,
      "outputs": []
    },
    {
      "cell_type": "code",
      "metadata": {
        "colab": {
          "base_uri": "https://localhost:8080/"
        },
        "id": "j77MrD8daSg1",
        "outputId": "547808e4-f806-4cea-a0df-f17b340dc692"
      },
      "source": [
        "A = np.array([[1,2,-1],[4,6,-2],[-1,3,3]]) #Preparing the array\n",
        "A1 = np.linalg.det(A) #Command needed to find the determinant of the given array\n",
        "print(A)\n",
        "print(A1)\n",
        "print(round(A1)) #Rounded form of the answer "
      ],
      "execution_count": null,
      "outputs": [
        {
          "output_type": "stream",
          "name": "stdout",
          "text": [
            "[[ 1  2 -1]\n",
            " [ 4  6 -2]\n",
            " [-1  3  3]]\n",
            "-13.999999999999996\n",
            "-14\n"
          ]
        }
      ]
    }
  ]
}