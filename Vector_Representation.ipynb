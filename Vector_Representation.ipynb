{
  "nbformat": 4,
  "nbformat_minor": 0,
  "metadata": {
    "colab": {
      "name": "Untitled8.ipynb",
      "provenance": [],
      "authorship_tag": "ABX9TyNYZD8KopXY9LkwH5Sek9vD",
      "include_colab_link": true
    },
    "kernelspec": {
      "name": "python3",
      "display_name": "Python 3"
    },
    "language_info": {
      "name": "python"
    }
  },
  "cells": [
    {
      "cell_type": "markdown",
      "metadata": {
        "id": "view-in-github",
        "colab_type": "text"
      },
      "source": [
        "<a href=\"https://colab.research.google.com/github/Lord-Matthew/Linear-Algebra-58020/blob/main/Vector_Representation.ipynb\" target=\"_parent\"><img src=\"https://colab.research.google.com/assets/colab-badge.svg\" alt=\"Open In Colab\"/></a>"
      ]
    },
    {
      "cell_type": "markdown",
      "metadata": {
        "id": "RpEcLLquA-bZ"
      },
      "source": [
        "#Matrix and its Operations"
      ]
    },
    {
      "cell_type": "code",
      "metadata": {
        "colab": {
          "base_uri": "https://localhost:8080/"
        },
        "id": "xYUpUPdc2Ro8",
        "outputId": "73d8de87-72d1-41b8-de8e-d8fbc5293a67"
      },
      "source": [
        "import numpy as np\n",
        "#Create a 1 x 3 array\n",
        "a = np.array([1,3,-5])\n",
        "print(a)"
      ],
      "execution_count": null,
      "outputs": [
        {
          "output_type": "stream",
          "name": "stdout",
          "text": [
            "[ 1  3 -5]\n"
          ]
        }
      ]
    },
    {
      "cell_type": "code",
      "metadata": {
        "colab": {
          "base_uri": "https://localhost:8080/"
        },
        "id": "QMq4oAOqBwYx",
        "outputId": "bf56c813-1d38-40e3-db99-dff2db09cec2"
      },
      "source": [
        "#Create a 2 x 3 array\n",
        "b = np.array([[1,4,-3],[4,-3,5]]) #Example of rectangular array\n",
        "print(b)"
      ],
      "execution_count": null,
      "outputs": [
        {
          "output_type": "stream",
          "name": "stdout",
          "text": [
            "[[ 1  4 -3]\n",
            " [ 4 -3  5]]\n"
          ]
        }
      ]
    },
    {
      "cell_type": "code",
      "metadata": {
        "colab": {
          "base_uri": "https://localhost:8080/"
        },
        "id": "Wq1aETeyCWvS",
        "outputId": "8c456db8-6659-4a92-ab2f-baf3f1bbd384"
      },
      "source": [
        "#Create a 3 x 3 matrix\n",
        "c = np.array([[1,4,-3],[5,-3,4],[6,-5,2]])\n",
        "print(c)"
      ],
      "execution_count": null,
      "outputs": [
        {
          "output_type": "stream",
          "name": "stdout",
          "text": [
            "[[ 1  4 -3]\n",
            " [ 5 -3  4]\n",
            " [ 6 -5  2]]\n"
          ]
        }
      ]
    },
    {
      "cell_type": "code",
      "metadata": {
        "colab": {
          "base_uri": "https://localhost:8080/"
        },
        "id": "KciDV7DgC3HX",
        "outputId": "f1b79110-e916-4f39-a09f-a144d40065f6"
      },
      "source": [
        "#Create a constant array with all values are 6\n",
        "d = np.full((4,4),6) #Example of square matrix\n",
        "print(d)"
      ],
      "execution_count": null,
      "outputs": [
        {
          "output_type": "stream",
          "name": "stdout",
          "text": [
            "[[6 6 6 6]\n",
            " [6 6 6 6]\n",
            " [6 6 6 6]\n",
            " [6 6 6 6]]\n"
          ]
        }
      ]
    },
    {
      "cell_type": "code",
      "metadata": {
        "colab": {
          "base_uri": "https://localhost:8080/"
        },
        "id": "8Ouv4mh_DWa9",
        "outputId": "02452cb3-78fc-4dc8-b6de-dac2feeddad6"
      },
      "source": [
        "#Create a diagonal matrix\n",
        "e = np.array([[1,4,-3],[5,-3,4],[6,-5,2]])\n",
        "print(e)\n",
        "e = np.diagonal([[1,4,-3],[5,-3,4],[6,-5,2]])\n",
        "print(e)"
      ],
      "execution_count": null,
      "outputs": [
        {
          "output_type": "stream",
          "name": "stdout",
          "text": [
            "[[ 1  4 -3]\n",
            " [ 5 -3  4]\n",
            " [ 6 -5  2]]\n",
            "[ 1 -3  2]\n"
          ]
        }
      ]
    },
    {
      "cell_type": "code",
      "metadata": {
        "colab": {
          "base_uri": "https://localhost:8080/"
        },
        "id": "9LnYqXX7DzU9",
        "outputId": "5deaf2b1-b9f9-45a3-fee4-afa60a191f31"
      },
      "source": [
        "#Create an identity matrix\n",
        "f = np.eye(6)\n",
        "print(f)"
      ],
      "execution_count": null,
      "outputs": [
        {
          "output_type": "stream",
          "name": "stdout",
          "text": [
            "[[1. 0. 0. 0. 0. 0.]\n",
            " [0. 1. 0. 0. 0. 0.]\n",
            " [0. 0. 1. 0. 0. 0.]\n",
            " [0. 0. 0. 1. 0. 0.]\n",
            " [0. 0. 0. 0. 1. 0.]\n",
            " [0. 0. 0. 0. 0. 1.]]\n"
          ]
        }
      ]
    },
    {
      "cell_type": "code",
      "metadata": {
        "colab": {
          "base_uri": "https://localhost:8080/"
        },
        "id": "ulZS0tj1Ets0",
        "outputId": "1fd0a122-7560-4389-818f-60fd6564e9b9"
      },
      "source": [
        "#Create a zero matrix\n",
        "f = np.zeros((4,4))\n",
        "print(f)"
      ],
      "execution_count": null,
      "outputs": [
        {
          "output_type": "stream",
          "name": "stdout",
          "text": [
            "[[0. 0. 0. 0.]\n",
            " [0. 0. 0. 0.]\n",
            " [0. 0. 0. 0.]\n",
            " [0. 0. 0. 0.]]\n"
          ]
        }
      ]
    },
    {
      "cell_type": "code",
      "metadata": {
        "colab": {
          "base_uri": "https://localhost:8080/"
        },
        "id": "NNIt0NEjE8VC",
        "outputId": "32eaf502-5f34-47ca-9b20-19f16db479d9"
      },
      "source": [
        "#Create an empty matrix\n",
        "h = np.empty((0,5))\n",
        "print(h)"
      ],
      "execution_count": null,
      "outputs": [
        {
          "output_type": "stream",
          "name": "stdout",
          "text": [
            "[]\n"
          ]
        }
      ]
    },
    {
      "cell_type": "code",
      "metadata": {
        "colab": {
          "base_uri": "https://localhost:8080/"
        },
        "id": "8KlsVFcFFe2H",
        "outputId": "f79f3ee0-1468-4d14-9470-1f00e5673640"
      },
      "source": [
        "#Addition of Matrices\n",
        "i = np.array([[1,4,-3],[5,-3,4]])\n",
        "j = np.array([[4,-5,3],[3,6,9]])\n",
        "print(i+j)"
      ],
      "execution_count": null,
      "outputs": [
        {
          "output_type": "stream",
          "name": "stdout",
          "text": [
            "[[ 5 -1  0]\n",
            " [ 8  3 13]]\n"
          ]
        }
      ]
    },
    {
      "cell_type": "code",
      "metadata": {
        "colab": {
          "base_uri": "https://localhost:8080/"
        },
        "id": "I2Y_9dwRGQJE",
        "outputId": "11219d5a-6683-4823-d119-bc2f0a9a530d"
      },
      "source": [
        "#Subtraction of Matrices\n",
        "i = np.array([[1,4,-3],[5,-3,4]])\n",
        "j = np.array([[4,-5,3],[3,6,9]])\n",
        "print(i-j)"
      ],
      "execution_count": null,
      "outputs": [
        {
          "output_type": "stream",
          "name": "stdout",
          "text": [
            "[[-3  9 -6]\n",
            " [ 2 -9 -5]]\n"
          ]
        }
      ]
    },
    {
      "cell_type": "code",
      "metadata": {
        "id": "HOMi093kGYYW"
      },
      "source": [
        ""
      ],
      "execution_count": null,
      "outputs": []
    }
  ]
}