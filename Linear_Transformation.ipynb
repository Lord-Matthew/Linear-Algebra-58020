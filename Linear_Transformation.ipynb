{
  "nbformat": 4,
  "nbformat_minor": 0,
  "metadata": {
    "colab": {
      "name": "Linear Transformation.ipynb",
      "provenance": [],
      "authorship_tag": "ABX9TyMkq7QLW7IuYRnXqVvBrX/R",
      "include_colab_link": true
    },
    "kernelspec": {
      "name": "python3",
      "display_name": "Python 3"
    },
    "language_info": {
      "name": "python"
    }
  },
  "cells": [
    {
      "cell_type": "markdown",
      "metadata": {
        "id": "view-in-github",
        "colab_type": "text"
      },
      "source": [
        "<a href=\"https://colab.research.google.com/github/Lord-Matthew/Linear-Algebra-58020/blob/main/Linear_Transformation.ipynb\" target=\"_parent\"><img src=\"https://colab.research.google.com/assets/colab-badge.svg\" alt=\"Open In Colab\"/></a>"
      ]
    },
    {
      "cell_type": "code",
      "metadata": {
        "id": "OYCv_XpgJzIg",
        "colab": {
          "base_uri": "https://localhost:8080/"
        },
        "outputId": "fea7cb17-8a91-47d1-e3ef-551d9ccf0533"
      },
      "source": [
        "import numpy as np\n",
        "A = np.array([[4,10,8],[10,26,26],[8,26,61]])\n",
        "print(A)\n",
        "inv_A=np.linalg.inv(A)\n",
        "print(inv_A)\n",
        "\n",
        "B = np.array([[44],[128],[214]])\n",
        "print(B)\n",
        "\n",
        "#AA^-1X = BA^-1\n",
        "X = np.dot(inv_A,B)\n",
        "print(X)\n"
      ],
      "execution_count": 7,
      "outputs": [
        {
          "output_type": "stream",
          "name": "stdout",
          "text": [
            "[[ 4 10  8]\n",
            " [10 26 26]\n",
            " [ 8 26 61]]\n",
            "[[ 25.27777778 -11.16666667   1.44444444]\n",
            " [-11.16666667   5.          -0.66666667]\n",
            " [  1.44444444  -0.66666667   0.11111111]]\n",
            "[[ 44]\n",
            " [128]\n",
            " [214]]\n",
            "[[-8.]\n",
            " [ 6.]\n",
            " [ 2.]]\n"
          ]
        }
      ]
    },
    {
      "cell_type": "code",
      "metadata": {
        "id": "Xc8_x6T5cfw8"
      },
      "source": [
        ""
      ],
      "execution_count": null,
      "outputs": []
    }
  ]
}